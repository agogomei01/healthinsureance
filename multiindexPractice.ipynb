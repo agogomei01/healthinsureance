{
 "cells": [
  {
   "cell_type": "code",
   "execution_count": 1,
   "metadata": {
    "collapsed": true
   },
   "outputs": [],
   "source": [
    "arrays = [['bar', 'bar', 'baz', 'baz', 'foo', 'foo', 'qux', 'qux'],\n",
    "          ['one', 'two', 'one', 'two', 'one', 'two', 'one', 'two']]"
   ]
  },
  {
   "cell_type": "code",
   "execution_count": 3,
   "metadata": {
    "collapsed": false
   },
   "outputs": [
    {
     "data": {
      "text/plain": [
       "[('bar', 'one'),\n",
       " ('bar', 'two'),\n",
       " ('baz', 'one'),\n",
       " ('baz', 'two'),\n",
       " ('foo', 'one'),\n",
       " ('foo', 'two'),\n",
       " ('qux', 'one'),\n",
       " ('qux', 'two')]"
      ]
     },
     "execution_count": 3,
     "metadata": {},
     "output_type": "execute_result"
    }
   ],
   "source": [
    "tuples = list(zip(*arrays))\n",
    "tuples"
   ]
  },
  {
   "cell_type": "code",
   "execution_count": 8,
   "metadata": {
    "collapsed": false
   },
   "outputs": [
    {
     "data": {
      "text/plain": [
       "MultiIndex(levels=[['bar', 'baz', 'foo', 'qux'], ['one', 'two']],\n",
       "           labels=[[0, 0, 1, 1, 2, 2, 3, 3], [0, 1, 0, 1, 0, 1, 0, 1]],\n",
       "           names=['first', 'second'])"
      ]
     },
     "execution_count": 8,
     "metadata": {},
     "output_type": "execute_result"
    }
   ],
   "source": [
    "index = pd.MultiIndex.from_tuples(tuples, names=['first', 'second'])\n",
    "index"
   ]
  },
  {
   "cell_type": "code",
   "execution_count": 10,
   "metadata": {
    "collapsed": true
   },
   "outputs": [],
   "source": [
    "import pandas as pd\n",
    "import numpy as np"
   ]
  },
  {
   "cell_type": "code",
   "execution_count": 12,
   "metadata": {
    "collapsed": false
   },
   "outputs": [
    {
     "data": {
      "text/plain": [
       "first  second\n",
       "bar    one       1.579064\n",
       "       two      -0.242889\n",
       "baz    one       0.066463\n",
       "       two       0.978285\n",
       "foo    one      -0.468827\n",
       "       two       0.361530\n",
       "qux    one       0.384712\n",
       "       two      -1.109931\n",
       "dtype: float64"
      ]
     },
     "execution_count": 12,
     "metadata": {},
     "output_type": "execute_result"
    }
   ],
   "source": [
    "s = pd.Series(np.random.randn(8), index=index)\n",
    "s"
   ]
  },
  {
   "cell_type": "code",
   "execution_count": 13,
   "metadata": {
    "collapsed": true
   },
   "outputs": [],
   "source": [
    "iterables = [['bar', 'baz', 'foo', 'qux'], ['one', 'two']]"
   ]
  },
  {
   "cell_type": "code",
   "execution_count": 14,
   "metadata": {
    "collapsed": false
   },
   "outputs": [
    {
     "data": {
      "text/plain": [
       "MultiIndex(levels=[['bar', 'baz', 'foo', 'qux'], ['one', 'two']],\n",
       "           labels=[[0, 0, 1, 1, 2, 2, 3, 3], [0, 1, 0, 1, 0, 1, 0, 1]],\n",
       "           names=['first', 'second'])"
      ]
     },
     "execution_count": 14,
     "metadata": {},
     "output_type": "execute_result"
    }
   ],
   "source": [
    "pd.MultiIndex.from_product(iterables, names=['first', 'second'])"
   ]
  },
  {
   "cell_type": "code",
   "execution_count": 15,
   "metadata": {
    "collapsed": true
   },
   "outputs": [],
   "source": [
    "arrays = [np.array(['bar', 'bar', 'baz', 'baz', 'foo', 'foo', 'qux', 'qux']),\n",
    "          np.array(['one', 'two', 'one', 'two', 'one', 'two', 'one', 'two'])]\n"
   ]
  },
  {
   "cell_type": "code",
   "execution_count": 16,
   "metadata": {
    "collapsed": false
   },
   "outputs": [
    {
     "data": {
      "text/plain": [
       "bar  one   -0.276785\n",
       "     two    1.123318\n",
       "baz  one   -1.685152\n",
       "     two    0.251436\n",
       "foo  one   -0.547983\n",
       "     two    0.039119\n",
       "qux  one    1.091627\n",
       "     two    0.114055\n",
       "dtype: float64"
      ]
     },
     "execution_count": 16,
     "metadata": {},
     "output_type": "execute_result"
    }
   ],
   "source": [
    "s = pd.Series(np.random.randn(8), index=arrays)\n",
    "s"
   ]
  },
  {
   "cell_type": "code",
   "execution_count": 18,
   "metadata": {
    "collapsed": false
   },
   "outputs": [
    {
     "data": {
      "text/html": [
       "<div>\n",
       "<table border=\"1\" class=\"dataframe\">\n",
       "  <thead>\n",
       "    <tr style=\"text-align: right;\">\n",
       "      <th></th>\n",
       "      <th></th>\n",
       "      <th>0</th>\n",
       "      <th>1</th>\n",
       "      <th>2</th>\n",
       "      <th>3</th>\n",
       "    </tr>\n",
       "  </thead>\n",
       "  <tbody>\n",
       "    <tr>\n",
       "      <th rowspan=\"2\" valign=\"top\">bar</th>\n",
       "      <th>one</th>\n",
       "      <td>0.086331</td>\n",
       "      <td>-0.607078</td>\n",
       "      <td>-0.018215</td>\n",
       "      <td>-0.607931</td>\n",
       "    </tr>\n",
       "    <tr>\n",
       "      <th>two</th>\n",
       "      <td>0.152407</td>\n",
       "      <td>-0.041703</td>\n",
       "      <td>0.303751</td>\n",
       "      <td>0.102885</td>\n",
       "    </tr>\n",
       "    <tr>\n",
       "      <th rowspan=\"2\" valign=\"top\">baz</th>\n",
       "      <th>one</th>\n",
       "      <td>-0.546906</td>\n",
       "      <td>-0.955335</td>\n",
       "      <td>-0.871735</td>\n",
       "      <td>-1.741306</td>\n",
       "    </tr>\n",
       "    <tr>\n",
       "      <th>two</th>\n",
       "      <td>-0.852085</td>\n",
       "      <td>-0.175304</td>\n",
       "      <td>0.770201</td>\n",
       "      <td>0.494928</td>\n",
       "    </tr>\n",
       "    <tr>\n",
       "      <th rowspan=\"2\" valign=\"top\">foo</th>\n",
       "      <th>one</th>\n",
       "      <td>0.698837</td>\n",
       "      <td>-2.024771</td>\n",
       "      <td>1.823659</td>\n",
       "      <td>0.814602</td>\n",
       "    </tr>\n",
       "    <tr>\n",
       "      <th>two</th>\n",
       "      <td>0.231564</td>\n",
       "      <td>0.689661</td>\n",
       "      <td>-1.304323</td>\n",
       "      <td>-0.908776</td>\n",
       "    </tr>\n",
       "    <tr>\n",
       "      <th rowspan=\"2\" valign=\"top\">qux</th>\n",
       "      <th>one</th>\n",
       "      <td>0.056421</td>\n",
       "      <td>-0.601120</td>\n",
       "      <td>-1.392280</td>\n",
       "      <td>0.021793</td>\n",
       "    </tr>\n",
       "    <tr>\n",
       "      <th>two</th>\n",
       "      <td>-0.257606</td>\n",
       "      <td>0.351165</td>\n",
       "      <td>-0.813768</td>\n",
       "      <td>0.011359</td>\n",
       "    </tr>\n",
       "  </tbody>\n",
       "</table>\n",
       "</div>"
      ],
      "text/plain": [
       "                0         1         2         3\n",
       "bar one  0.086331 -0.607078 -0.018215 -0.607931\n",
       "    two  0.152407 -0.041703  0.303751  0.102885\n",
       "baz one -0.546906 -0.955335 -0.871735 -1.741306\n",
       "    two -0.852085 -0.175304  0.770201  0.494928\n",
       "foo one  0.698837 -2.024771  1.823659  0.814602\n",
       "    two  0.231564  0.689661 -1.304323 -0.908776\n",
       "qux one  0.056421 -0.601120 -1.392280  0.021793\n",
       "    two -0.257606  0.351165 -0.813768  0.011359"
      ]
     },
     "execution_count": 18,
     "metadata": {},
     "output_type": "execute_result"
    }
   ],
   "source": [
    "df = pd.DataFrame(np.random.randn(8, 4), index=arrays)\n",
    "df"
   ]
  },
  {
   "cell_type": "code",
   "execution_count": 21,
   "metadata": {
    "collapsed": false
   },
   "outputs": [
    {
     "data": {
      "text/html": [
       "<div>\n",
       "<table border=\"1\" class=\"dataframe\">\n",
       "  <thead>\n",
       "    <tr>\n",
       "      <th>first</th>\n",
       "      <th colspan=\"2\" halign=\"left\">bar</th>\n",
       "      <th colspan=\"2\" halign=\"left\">baz</th>\n",
       "      <th colspan=\"2\" halign=\"left\">foo</th>\n",
       "      <th colspan=\"2\" halign=\"left\">qux</th>\n",
       "    </tr>\n",
       "    <tr>\n",
       "      <th>second</th>\n",
       "      <th>one</th>\n",
       "      <th>two</th>\n",
       "      <th>one</th>\n",
       "      <th>two</th>\n",
       "      <th>one</th>\n",
       "      <th>two</th>\n",
       "      <th>one</th>\n",
       "      <th>two</th>\n",
       "    </tr>\n",
       "  </thead>\n",
       "  <tbody>\n",
       "    <tr>\n",
       "      <th>A</th>\n",
       "      <td>-1.03762</td>\n",
       "      <td>1.644512</td>\n",
       "      <td>-1.416647</td>\n",
       "      <td>-0.970885</td>\n",
       "      <td>-1.600928</td>\n",
       "      <td>-1.334222</td>\n",
       "      <td>-0.067581</td>\n",
       "      <td>-1.470693</td>\n",
       "    </tr>\n",
       "    <tr>\n",
       "      <th>B</th>\n",
       "      <td>0.43552</td>\n",
       "      <td>0.451415</td>\n",
       "      <td>1.430022</td>\n",
       "      <td>0.004067</td>\n",
       "      <td>-0.200966</td>\n",
       "      <td>0.114013</td>\n",
       "      <td>0.500041</td>\n",
       "      <td>0.543712</td>\n",
       "    </tr>\n",
       "    <tr>\n",
       "      <th>C</th>\n",
       "      <td>-1.53744</td>\n",
       "      <td>-1.126035</td>\n",
       "      <td>-0.183356</td>\n",
       "      <td>-0.342409</td>\n",
       "      <td>-1.116553</td>\n",
       "      <td>0.976319</td>\n",
       "      <td>-1.027403</td>\n",
       "      <td>-0.945655</td>\n",
       "    </tr>\n",
       "  </tbody>\n",
       "</table>\n",
       "</div>"
      ],
      "text/plain": [
       "first       bar                 baz                 foo                 qux  \\\n",
       "second      one       two       one       two       one       two       one   \n",
       "A      -1.03762  1.644512 -1.416647 -0.970885 -1.600928 -1.334222 -0.067581   \n",
       "B       0.43552  0.451415  1.430022  0.004067 -0.200966  0.114013  0.500041   \n",
       "C      -1.53744 -1.126035 -0.183356 -0.342409 -1.116553  0.976319 -1.027403   \n",
       "\n",
       "first             \n",
       "second       two  \n",
       "A      -1.470693  \n",
       "B       0.543712  \n",
       "C      -0.945655  "
      ]
     },
     "execution_count": 21,
     "metadata": {},
     "output_type": "execute_result"
    }
   ],
   "source": [
    "df = pd.DataFrame(np.random.randn(3, 8), index=['A', 'B', 'C'], columns=index)\n",
    "df"
   ]
  },
  {
   "cell_type": "code",
   "execution_count": 22,
   "metadata": {
    "collapsed": false
   },
   "outputs": [
    {
     "data": {
      "text/html": [
       "<div>\n",
       "<table border=\"1\" class=\"dataframe\">\n",
       "  <thead>\n",
       "    <tr>\n",
       "      <th></th>\n",
       "      <th>first</th>\n",
       "      <th colspan=\"2\" halign=\"left\">bar</th>\n",
       "      <th colspan=\"2\" halign=\"left\">baz</th>\n",
       "      <th colspan=\"2\" halign=\"left\">foo</th>\n",
       "    </tr>\n",
       "    <tr>\n",
       "      <th></th>\n",
       "      <th>second</th>\n",
       "      <th>one</th>\n",
       "      <th>two</th>\n",
       "      <th>one</th>\n",
       "      <th>two</th>\n",
       "      <th>one</th>\n",
       "      <th>two</th>\n",
       "    </tr>\n",
       "    <tr>\n",
       "      <th>first</th>\n",
       "      <th>second</th>\n",
       "      <th></th>\n",
       "      <th></th>\n",
       "      <th></th>\n",
       "      <th></th>\n",
       "      <th></th>\n",
       "      <th></th>\n",
       "    </tr>\n",
       "  </thead>\n",
       "  <tbody>\n",
       "    <tr>\n",
       "      <th rowspan=\"2\" valign=\"top\">bar</th>\n",
       "      <th>one</th>\n",
       "      <td>0.269469</td>\n",
       "      <td>2.079329</td>\n",
       "      <td>0.679178</td>\n",
       "      <td>0.458815</td>\n",
       "      <td>-0.047167</td>\n",
       "      <td>-1.179430</td>\n",
       "    </tr>\n",
       "    <tr>\n",
       "      <th>two</th>\n",
       "      <td>-0.363748</td>\n",
       "      <td>0.857970</td>\n",
       "      <td>-1.090699</td>\n",
       "      <td>-0.611130</td>\n",
       "      <td>-0.010243</td>\n",
       "      <td>0.004634</td>\n",
       "    </tr>\n",
       "    <tr>\n",
       "      <th rowspan=\"2\" valign=\"top\">baz</th>\n",
       "      <th>one</th>\n",
       "      <td>1.204067</td>\n",
       "      <td>0.473586</td>\n",
       "      <td>-1.119247</td>\n",
       "      <td>1.061111</td>\n",
       "      <td>-0.103172</td>\n",
       "      <td>0.062957</td>\n",
       "    </tr>\n",
       "    <tr>\n",
       "      <th>two</th>\n",
       "      <td>1.490294</td>\n",
       "      <td>0.100560</td>\n",
       "      <td>0.420823</td>\n",
       "      <td>-0.815741</td>\n",
       "      <td>0.431001</td>\n",
       "      <td>-0.628811</td>\n",
       "    </tr>\n",
       "    <tr>\n",
       "      <th rowspan=\"2\" valign=\"top\">foo</th>\n",
       "      <th>one</th>\n",
       "      <td>0.835644</td>\n",
       "      <td>-0.305006</td>\n",
       "      <td>0.266854</td>\n",
       "      <td>0.760116</td>\n",
       "      <td>-0.121726</td>\n",
       "      <td>1.851486</td>\n",
       "    </tr>\n",
       "    <tr>\n",
       "      <th>two</th>\n",
       "      <td>-1.122142</td>\n",
       "      <td>0.944666</td>\n",
       "      <td>0.621451</td>\n",
       "      <td>0.327123</td>\n",
       "      <td>-0.847571</td>\n",
       "      <td>2.037163</td>\n",
       "    </tr>\n",
       "  </tbody>\n",
       "</table>\n",
       "</div>"
      ],
      "text/plain": [
       "first              bar                 baz                 foo          \n",
       "second             one       two       one       two       one       two\n",
       "first second                                                            \n",
       "bar   one     0.269469  2.079329  0.679178  0.458815 -0.047167 -1.179430\n",
       "      two    -0.363748  0.857970 -1.090699 -0.611130 -0.010243  0.004634\n",
       "baz   one     1.204067  0.473586 -1.119247  1.061111 -0.103172  0.062957\n",
       "      two     1.490294  0.100560  0.420823 -0.815741  0.431001 -0.628811\n",
       "foo   one     0.835644 -0.305006  0.266854  0.760116 -0.121726  1.851486\n",
       "      two    -1.122142  0.944666  0.621451  0.327123 -0.847571  2.037163"
      ]
     },
     "execution_count": 22,
     "metadata": {},
     "output_type": "execute_result"
    }
   ],
   "source": [
    "pd.DataFrame(np.random.randn(6, 6), index=index[:6], columns=index[:6])"
   ]
  },
  {
   "cell_type": "code",
   "execution_count": 23,
   "metadata": {
    "collapsed": false
   },
   "outputs": [
    {
     "data": {
      "text/plain": [
       "(bar, one)   -0.069154\n",
       "(bar, two)   -0.953589\n",
       "(baz, one)    0.839167\n",
       "(baz, two)   -0.792020\n",
       "(foo, one)   -2.037364\n",
       "(foo, two)   -1.925400\n",
       "(qux, one)   -2.306741\n",
       "(qux, two)   -0.013927\n",
       "dtype: float64"
      ]
     },
     "execution_count": 23,
     "metadata": {},
     "output_type": "execute_result"
    }
   ],
   "source": [
    "pd.Series(np.random.randn(8), index=tuples)"
   ]
  },
  {
   "cell_type": "code",
   "execution_count": 24,
   "metadata": {
    "collapsed": true
   },
   "outputs": [],
   "source": [
    "pd.set_option('display.multi_sparse', False)"
   ]
  },
  {
   "cell_type": "code",
   "execution_count": 25,
   "metadata": {
    "collapsed": true
   },
   "outputs": [],
   "source": [
    "pd.set_option('display.multi_sparse', True)"
   ]
  },
  {
   "cell_type": "code",
   "execution_count": 26,
   "metadata": {
    "collapsed": false
   },
   "outputs": [
    {
     "data": {
      "text/plain": [
       "Index(['bar', 'bar', 'baz', 'baz', 'foo', 'foo', 'qux', 'qux'], dtype='object', name='first')"
      ]
     },
     "execution_count": 26,
     "metadata": {},
     "output_type": "execute_result"
    }
   ],
   "source": [
    "index.get_level_values(0)"
   ]
  },
  {
   "cell_type": "code",
   "execution_count": 27,
   "metadata": {
    "collapsed": false
   },
   "outputs": [
    {
     "data": {
      "text/plain": [
       "Index(['one', 'two', 'one', 'two', 'one', 'two', 'one', 'two'], dtype='object', name='second')"
      ]
     },
     "execution_count": 27,
     "metadata": {},
     "output_type": "execute_result"
    }
   ],
   "source": [
    "index.get_level_values('second')"
   ]
  },
  {
   "cell_type": "code",
   "execution_count": 28,
   "metadata": {
    "collapsed": false
   },
   "outputs": [
    {
     "data": {
      "text/html": [
       "<div>\n",
       "<table border=\"1\" class=\"dataframe\">\n",
       "  <thead>\n",
       "    <tr>\n",
       "      <th>first</th>\n",
       "      <th colspan=\"2\" halign=\"left\">bar</th>\n",
       "      <th colspan=\"2\" halign=\"left\">baz</th>\n",
       "      <th colspan=\"2\" halign=\"left\">foo</th>\n",
       "      <th colspan=\"2\" halign=\"left\">qux</th>\n",
       "    </tr>\n",
       "    <tr>\n",
       "      <th>second</th>\n",
       "      <th>one</th>\n",
       "      <th>two</th>\n",
       "      <th>one</th>\n",
       "      <th>two</th>\n",
       "      <th>one</th>\n",
       "      <th>two</th>\n",
       "      <th>one</th>\n",
       "      <th>two</th>\n",
       "    </tr>\n",
       "  </thead>\n",
       "  <tbody>\n",
       "    <tr>\n",
       "      <th>A</th>\n",
       "      <td>-1.03762</td>\n",
       "      <td>1.644512</td>\n",
       "      <td>-1.416647</td>\n",
       "      <td>-0.970885</td>\n",
       "      <td>-1.600928</td>\n",
       "      <td>-1.334222</td>\n",
       "      <td>-0.067581</td>\n",
       "      <td>-1.470693</td>\n",
       "    </tr>\n",
       "    <tr>\n",
       "      <th>B</th>\n",
       "      <td>0.43552</td>\n",
       "      <td>0.451415</td>\n",
       "      <td>1.430022</td>\n",
       "      <td>0.004067</td>\n",
       "      <td>-0.200966</td>\n",
       "      <td>0.114013</td>\n",
       "      <td>0.500041</td>\n",
       "      <td>0.543712</td>\n",
       "    </tr>\n",
       "    <tr>\n",
       "      <th>C</th>\n",
       "      <td>-1.53744</td>\n",
       "      <td>-1.126035</td>\n",
       "      <td>-0.183356</td>\n",
       "      <td>-0.342409</td>\n",
       "      <td>-1.116553</td>\n",
       "      <td>0.976319</td>\n",
       "      <td>-1.027403</td>\n",
       "      <td>-0.945655</td>\n",
       "    </tr>\n",
       "  </tbody>\n",
       "</table>\n",
       "</div>"
      ],
      "text/plain": [
       "first       bar                 baz                 foo                 qux  \\\n",
       "second      one       two       one       two       one       two       one   \n",
       "A      -1.03762  1.644512 -1.416647 -0.970885 -1.600928 -1.334222 -0.067581   \n",
       "B       0.43552  0.451415  1.430022  0.004067 -0.200966  0.114013  0.500041   \n",
       "C      -1.53744 -1.126035 -0.183356 -0.342409 -1.116553  0.976319 -1.027403   \n",
       "\n",
       "first             \n",
       "second       two  \n",
       "A      -1.470693  \n",
       "B       0.543712  \n",
       "C      -0.945655  "
      ]
     },
     "execution_count": 28,
     "metadata": {},
     "output_type": "execute_result"
    }
   ],
   "source": [
    "df"
   ]
  },
  {
   "cell_type": "code",
   "execution_count": 29,
   "metadata": {
    "collapsed": false
   },
   "outputs": [
    {
     "data": {
      "text/html": [
       "<div>\n",
       "<table border=\"1\" class=\"dataframe\">\n",
       "  <thead>\n",
       "    <tr style=\"text-align: right;\">\n",
       "      <th>second</th>\n",
       "      <th>one</th>\n",
       "      <th>two</th>\n",
       "    </tr>\n",
       "  </thead>\n",
       "  <tbody>\n",
       "    <tr>\n",
       "      <th>A</th>\n",
       "      <td>-1.03762</td>\n",
       "      <td>1.644512</td>\n",
       "    </tr>\n",
       "    <tr>\n",
       "      <th>B</th>\n",
       "      <td>0.43552</td>\n",
       "      <td>0.451415</td>\n",
       "    </tr>\n",
       "    <tr>\n",
       "      <th>C</th>\n",
       "      <td>-1.53744</td>\n",
       "      <td>-1.126035</td>\n",
       "    </tr>\n",
       "  </tbody>\n",
       "</table>\n",
       "</div>"
      ],
      "text/plain": [
       "second      one       two\n",
       "A      -1.03762  1.644512\n",
       "B       0.43552  0.451415\n",
       "C      -1.53744 -1.126035"
      ]
     },
     "execution_count": 29,
     "metadata": {},
     "output_type": "execute_result"
    }
   ],
   "source": [
    "df['bar']"
   ]
  },
  {
   "cell_type": "code",
   "execution_count": 30,
   "metadata": {
    "collapsed": false
   },
   "outputs": [
    {
     "data": {
      "text/plain": [
       "MultiIndex(levels=[['bar', 'baz', 'foo', 'qux'], ['one', 'two']],\n",
       "           labels=[[0, 0, 1, 1, 2, 2, 3, 3], [0, 1, 0, 1, 0, 1, 0, 1]],\n",
       "           names=['first', 'second'])"
      ]
     },
     "execution_count": 30,
     "metadata": {},
     "output_type": "execute_result"
    }
   ],
   "source": [
    "df.columns"
   ]
  },
  {
   "cell_type": "code",
   "execution_count": null,
   "metadata": {
    "collapsed": true
   },
   "outputs": [],
   "source": []
  }
 ],
 "metadata": {
  "kernelspec": {
   "display_name": "Python 3",
   "language": "python",
   "name": "python3"
  },
  "language_info": {
   "codemirror_mode": {
    "name": "ipython",
    "version": 3
   },
   "file_extension": ".py",
   "mimetype": "text/x-python",
   "name": "python",
   "nbconvert_exporter": "python",
   "pygments_lexer": "ipython3",
   "version": "3.4.3"
  }
 },
 "nbformat": 4,
 "nbformat_minor": 0
}
